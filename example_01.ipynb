{
 "cells": [
  {
   "cell_type": "markdown",
   "metadata": {},
   "source": [
    "# 빅데이터분석기사 실기 대비\n",
    "예제 문제 풀이: 자세한 설명 [링크](https://djccnt15.github.io/dataanalysis/bigdata_certi_01/)\n",
    "\n",
    "문제 출처: [제2회 빅데이터분석기사 실기 안내(수정: 체험링크 추가)](https://www.dataq.or.kr/www/board/view.do?bbsKey=eyJiYnNhdHRyU2VxIjoxLCJiYnNTZXEiOjUwOTM0M30=&boardKind=notice)"
   ]
  },
  {
   "cell_type": "markdown",
   "metadata": {},
   "source": [
    "## 작업형 제1유형 : 데이터 처리 영역\n",
    "\n",
    "mtcars 데이터셋(mtcars.csv)의 qsec 컬럼을 최소최대 척도(Min-Max Scale)로 변환한 후 0.5보다 큰 값을 가지는 레코드 수를 구하시오."
   ]
  },
  {
   "cell_type": "code",
   "execution_count": 1,
   "metadata": {},
   "outputs": [],
   "source": [
    "import pandas as pd\n",
    "\n",
    "df = pd.read_csv('data/mtcars.csv')"
   ]
  },
  {
   "cell_type": "code",
   "execution_count": 2,
   "metadata": {},
   "outputs": [
    {
     "name": "stdout",
     "output_type": "stream",
     "text": [
      "9\n"
     ]
    }
   ],
   "source": [
    "from sklearn.preprocessing import MinMaxScaler\n",
    "\n",
    "data = df[['qsec']]\n",
    "\n",
    "scaler = MinMaxScaler()\n",
    "scaler.fit(data)\n",
    "scaled = scaler.transform(data)\n",
    "\n",
    "print(len(scaled[scaled > 0.5]))"
   ]
  },
  {
   "cell_type": "markdown",
   "metadata": {},
   "source": [
    "## 작업형 제2유형 : 모형 구축 및 평가 영역\n",
    "\n",
    "고객 3,500명에 대한 학습용 데이터(`y_train.csv`, `X_train.csv`)를 이용하여 성별예측 모형을 만든 후, 이를 평가용 데이터(`X_test.csv`)에 적용하여 얻은 2,482명 고객의 성별 예측값(남자일 확률)을 다음과 같은 형식의 `CSV` 파일로 생성하시오.(제출한 모델의 성능은 ROC-AUC 평가지표에 따라 채점)"
   ]
  },
  {
   "cell_type": "markdown",
   "metadata": {},
   "source": [
    "**제출형식**\n",
    "\n",
    "```\n",
    "custid,gender\n",
    "3500,0.267\n",
    "3501,0.578\n",
    "3502,0.885\n",
    "```\n",
    "\n",
    "❗ 1회차 시험 때 제출 형식의 칼럼명을 다르게 썼다고 **0점 처리**된 사람이 많다는 얘기가 있다. 제출 형식에 주의해야 한다."
   ]
  },
  {
   "cell_type": "markdown",
   "metadata": {},
   "source": [
    "**유의사항**\n",
    "\n",
    "성능이 우수한 예측모형을 구축하기 위해서는 적절한 데이터 전처리, Feature Engineering, 분류 알고리즘 사용, 초매개변수 최적화, 모형 앙상블 등이 수반되어야 한다."
   ]
  },
  {
   "cell_type": "markdown",
   "metadata": {},
   "source": [
    "### 데이터 읽기"
   ]
  },
  {
   "cell_type": "code",
   "execution_count": 3,
   "metadata": {},
   "outputs": [],
   "source": [
    "import pandas as pd\n",
    "\n",
    "exog = pd.read_csv('data/X_train.csv', encoding='euc-kr')\n",
    "endog = pd.read_csv('data/y_train.csv', encoding='euc-kr')\n",
    "test = pd.read_csv('data/X_test.csv', encoding='euc-kr')"
   ]
  },
  {
   "cell_type": "markdown",
   "metadata": {},
   "source": [
    "### EDA 진행"
   ]
  },
  {
   "cell_type": "code",
   "execution_count": 4,
   "metadata": {},
   "outputs": [
    {
     "name": "stdout",
     "output_type": "stream",
     "text": [
      "<class 'pandas.core.frame.DataFrame'>\n",
      "RangeIndex: 3500 entries, 0 to 3499\n",
      "Data columns (total 10 columns):\n",
      " #   Column   Non-Null Count  Dtype  \n",
      "---  ------   --------------  -----  \n",
      " 0   cust_id  3500 non-null   int64  \n",
      " 1   총구매액     3500 non-null   int64  \n",
      " 2   최대구매액    3500 non-null   int64  \n",
      " 3   환불금액     1205 non-null   float64\n",
      " 4   주구매상품    3500 non-null   object \n",
      " 5   주구매지점    3500 non-null   object \n",
      " 6   내점일수     3500 non-null   int64  \n",
      " 7   내점당구매건수  3500 non-null   float64\n",
      " 8   주말방문비율   3500 non-null   float64\n",
      " 9   구매주기     3500 non-null   int64  \n",
      "dtypes: float64(3), int64(5), object(2)\n",
      "memory usage: 273.6+ KB\n",
      "None\n"
     ]
    }
   ],
   "source": [
    "print(exog.info())"
   ]
  },
  {
   "cell_type": "code",
   "execution_count": 5,
   "metadata": {},
   "outputs": [
    {
     "name": "stdout",
     "output_type": "stream",
     "text": [
      "<class 'pandas.core.frame.DataFrame'>\n",
      "RangeIndex: 3500 entries, 0 to 3499\n",
      "Data columns (total 2 columns):\n",
      " #   Column   Non-Null Count  Dtype\n",
      "---  ------   --------------  -----\n",
      " 0   cust_id  3500 non-null   int64\n",
      " 1   gender   3500 non-null   int64\n",
      "dtypes: int64(2)\n",
      "memory usage: 54.8 KB\n",
      "None\n"
     ]
    }
   ],
   "source": [
    "print(endog.info())"
   ]
  },
  {
   "cell_type": "code",
   "execution_count": 6,
   "metadata": {},
   "outputs": [
    {
     "name": "stdout",
     "output_type": "stream",
     "text": [
      "<class 'pandas.core.frame.DataFrame'>\n",
      "RangeIndex: 2482 entries, 0 to 2481\n",
      "Data columns (total 10 columns):\n",
      " #   Column   Non-Null Count  Dtype  \n",
      "---  ------   --------------  -----  \n",
      " 0   cust_id  2482 non-null   int64  \n",
      " 1   총구매액     2482 non-null   int64  \n",
      " 2   최대구매액    2482 non-null   int64  \n",
      " 3   환불금액     871 non-null    float64\n",
      " 4   주구매상품    2482 non-null   object \n",
      " 5   주구매지점    2482 non-null   object \n",
      " 6   내점일수     2482 non-null   int64  \n",
      " 7   내점당구매건수  2482 non-null   float64\n",
      " 8   주말방문비율   2482 non-null   float64\n",
      " 9   구매주기     2482 non-null   int64  \n",
      "dtypes: float64(3), int64(5), object(2)\n",
      "memory usage: 194.0+ KB\n",
      "None\n"
     ]
    }
   ],
   "source": [
    "print(test.info())"
   ]
  },
  {
   "cell_type": "code",
   "execution_count": 7,
   "metadata": {},
   "outputs": [
    {
     "name": "stdout",
     "output_type": "stream",
     "text": [
      "['기타' '스포츠' '남성 캐주얼' '보석' '디자이너' '시티웨어' '명품' '농산물' '화장품' '골프' '구두' '가공식품'\n",
      " '수산품' '아동' '차/커피' '캐주얼' '섬유잡화' '육류' '축산가공' '젓갈/반찬' '액세서리' '피혁잡화' '일용잡화'\n",
      " '주방가전' '주방용품' '건강식품' '가구' '주류' '모피/피혁' '남성 트랜디' '셔츠' '남성정장' '생활잡화'\n",
      " '트래디셔널' '란제리/내의' '커리어' '침구/수예' '대형가전' '통신/컴퓨터' '식기' '소형가전' '악기']\n",
      "['골프' '농산물' '가공식품' '주방용품' '수산품' '화장품' '기타' '스포츠' '디자이너' '시티웨어' '구두' '캐주얼'\n",
      " '명품' '건강식품' '남성정장' '커리어' '남성 캐주얼' '축산가공' '식기' '피혁잡화' '모피/피혁' '섬유잡화'\n",
      " '트래디셔널' '차/커피' '육류' '가구' '아동' '셔츠' '액세서리' '젓갈/반찬' '대형가전' '일용잡화' '통신/컴퓨터'\n",
      " '생활잡화' '주방가전' '란제리/내의' '남성 트랜디' '보석' '주류' '침구/수예' '악기']\n",
      "42 41\n"
     ]
    }
   ],
   "source": [
    "print(pd.unique(exog['주구매상품']))\n",
    "print(pd.unique(test['주구매상품']))\n",
    "print(len(pd.unique(exog['주구매상품'])), len(pd.unique(test['주구매상품'])))"
   ]
  },
  {
   "cell_type": "code",
   "execution_count": 8,
   "metadata": {},
   "outputs": [
    {
     "name": "stdout",
     "output_type": "stream",
     "text": [
      "['강남점' '잠실점' '관악점' '광주점' '본  점' '일산점' '대전점' '부산본점' '분당점' '영등포점' '미아점'\n",
      " '청량리점' '안양점' '부평점' '동래점' '포항점' '노원점' '창원점' '센텀시티점' '인천점' '대구점' '전주점'\n",
      " '울산점' '상인점']\n",
      "['부산본점' '잠실점' '본  점' '청량리점' '분당점' '일산점' '대전점' '강남점' '동래점' '영등포점' '부평점'\n",
      " '대구점' '노원점' '광주점' '관악점' '미아점' '창원점' '인천점' '안양점' '상인점' '포항점' '울산점' '전주점'\n",
      " '센텀시티점']\n",
      "24 24\n"
     ]
    }
   ],
   "source": [
    "print(pd.unique(exog['주구매지점']))\n",
    "print(pd.unique(test['주구매지점']))\n",
    "print(len(pd.unique(exog['주구매지점'])), len(pd.unique(test['주구매지점'])))"
   ]
  },
  {
   "cell_type": "code",
   "execution_count": 9,
   "metadata": {},
   "outputs": [
    {
     "name": "stdout",
     "output_type": "stream",
     "text": [
      "Index(['주구매상품', '주구매지점'], dtype='object')\n"
     ]
    }
   ],
   "source": [
    "obj_cols = exog.select_dtypes(include='object').columns\n",
    "\n",
    "print(obj_cols)"
   ]
  },
  {
   "cell_type": "code",
   "execution_count": 10,
   "metadata": {},
   "outputs": [
    {
     "name": "stdout",
     "output_type": "stream",
     "text": [
      "['총구매액', '최대구매액', '환불금액', '내점일수', '내점당구매건수', '주말방문비율', '구매주기']\n"
     ]
    }
   ],
   "source": [
    "num_cols = [i for i in exog.columns if i not in obj_cols]\n",
    "cust_id = test.loc[:,'cust_id']\n",
    "num_cols.remove('cust_id')\n",
    "\n",
    "print(num_cols)"
   ]
  },
  {
   "cell_type": "markdown",
   "metadata": {},
   "source": [
    "### Table join"
   ]
  },
  {
   "cell_type": "code",
   "execution_count": 11,
   "metadata": {},
   "outputs": [],
   "source": [
    "df = pd.concat([exog, test])"
   ]
  },
  {
   "cell_type": "code",
   "execution_count": 12,
   "metadata": {},
   "outputs": [
    {
     "name": "stdout",
     "output_type": "stream",
     "text": [
      "<class 'pandas.core.frame.DataFrame'>\n",
      "Int64Index: 5982 entries, 0 to 2481\n",
      "Data columns (total 10 columns):\n",
      " #   Column   Non-Null Count  Dtype  \n",
      "---  ------   --------------  -----  \n",
      " 0   cust_id  5982 non-null   int64  \n",
      " 1   총구매액     5982 non-null   int64  \n",
      " 2   최대구매액    5982 non-null   int64  \n",
      " 3   환불금액     2076 non-null   float64\n",
      " 4   주구매상품    5982 non-null   object \n",
      " 5   주구매지점    5982 non-null   object \n",
      " 6   내점일수     5982 non-null   int64  \n",
      " 7   내점당구매건수  5982 non-null   float64\n",
      " 8   주말방문비율   5982 non-null   float64\n",
      " 9   구매주기     5982 non-null   int64  \n",
      "dtypes: float64(3), int64(5), object(2)\n",
      "memory usage: 514.1+ KB\n",
      "None\n"
     ]
    }
   ],
   "source": [
    "print(df.info())"
   ]
  },
  {
   "cell_type": "markdown",
   "metadata": {},
   "source": [
    "### 필요 없는 칼럼 제거"
   ]
  },
  {
   "cell_type": "code",
   "execution_count": 13,
   "metadata": {},
   "outputs": [],
   "source": [
    "df.drop(columns=['cust_id'], inplace=True)\n",
    "endog.drop(columns=['cust_id'], inplace=True)"
   ]
  },
  {
   "cell_type": "markdown",
   "metadata": {},
   "source": [
    "### 결측치 제거"
   ]
  },
  {
   "cell_type": "code",
   "execution_count": 14,
   "metadata": {},
   "outputs": [],
   "source": [
    "df['환불금액'].fillna(value=0, inplace=True)"
   ]
  },
  {
   "cell_type": "code",
   "execution_count": 15,
   "metadata": {},
   "outputs": [
    {
     "name": "stdout",
     "output_type": "stream",
     "text": [
      "<class 'pandas.core.frame.DataFrame'>\n",
      "Int64Index: 5982 entries, 0 to 2481\n",
      "Data columns (total 9 columns):\n",
      " #   Column   Non-Null Count  Dtype  \n",
      "---  ------   --------------  -----  \n",
      " 0   총구매액     5982 non-null   int64  \n",
      " 1   최대구매액    5982 non-null   int64  \n",
      " 2   환불금액     5982 non-null   float64\n",
      " 3   주구매상품    5982 non-null   object \n",
      " 4   주구매지점    5982 non-null   object \n",
      " 5   내점일수     5982 non-null   int64  \n",
      " 6   내점당구매건수  5982 non-null   float64\n",
      " 7   주말방문비율   5982 non-null   float64\n",
      " 8   구매주기     5982 non-null   int64  \n",
      "dtypes: float64(3), int64(4), object(2)\n",
      "memory usage: 467.3+ KB\n",
      "None\n"
     ]
    }
   ],
   "source": [
    "print(df.info())"
   ]
  },
  {
   "cell_type": "markdown",
   "metadata": {},
   "source": [
    "### 정규화"
   ]
  },
  {
   "cell_type": "code",
   "execution_count": 16,
   "metadata": {},
   "outputs": [],
   "source": [
    "import numpy as np\n",
    "from sklearn.preprocessing import RobustScaler\n",
    "\n",
    "scaler = RobustScaler()\n",
    "for col in num_cols:\n",
    "    df[col] = scaler.fit_transform(np.array(df[col]).reshape(-1, 1))"
   ]
  },
  {
   "cell_type": "markdown",
   "metadata": {},
   "source": [
    "### One-hot encoding"
   ]
  },
  {
   "cell_type": "code",
   "execution_count": 17,
   "metadata": {},
   "outputs": [],
   "source": [
    "encoded = pd.get_dummies(df[['주구매상품', '주구매지점']])\n",
    "df = pd.concat([df, encoded], axis=1)\n",
    "df.drop(columns=['주구매상품', '주구매지점'], inplace=True)"
   ]
  },
  {
   "cell_type": "code",
   "execution_count": 18,
   "metadata": {},
   "outputs": [
    {
     "name": "stdout",
     "output_type": "stream",
     "text": [
      "<class 'pandas.core.frame.DataFrame'>\n",
      "Int64Index: 5982 entries, 0 to 2481\n",
      "Data columns (total 73 columns):\n",
      " #   Column        Non-Null Count  Dtype  \n",
      "---  ------        --------------  -----  \n",
      " 0   총구매액          5982 non-null   float64\n",
      " 1   최대구매액         5982 non-null   float64\n",
      " 2   환불금액          5982 non-null   float64\n",
      " 3   내점일수          5982 non-null   float64\n",
      " 4   내점당구매건수       5982 non-null   float64\n",
      " 5   주말방문비율        5982 non-null   float64\n",
      " 6   구매주기          5982 non-null   float64\n",
      " 7   주구매상품_가공식품    5982 non-null   uint8  \n",
      " 8   주구매상품_가구      5982 non-null   uint8  \n",
      " 9   주구매상품_건강식품    5982 non-null   uint8  \n",
      " 10  주구매상품_골프      5982 non-null   uint8  \n",
      " 11  주구매상품_구두      5982 non-null   uint8  \n",
      " 12  주구매상품_기타      5982 non-null   uint8  \n",
      " 13  주구매상품_남성 캐주얼  5982 non-null   uint8  \n",
      " 14  주구매상품_남성 트랜디  5982 non-null   uint8  \n",
      " 15  주구매상품_남성정장    5982 non-null   uint8  \n",
      " 16  주구매상품_농산물     5982 non-null   uint8  \n",
      " 17  주구매상품_대형가전    5982 non-null   uint8  \n",
      " 18  주구매상품_디자이너    5982 non-null   uint8  \n",
      " 19  주구매상품_란제리/내의  5982 non-null   uint8  \n",
      " 20  주구매상품_명품      5982 non-null   uint8  \n",
      " 21  주구매상품_모피/피혁   5982 non-null   uint8  \n",
      " 22  주구매상품_보석      5982 non-null   uint8  \n",
      " 23  주구매상품_생활잡화    5982 non-null   uint8  \n",
      " 24  주구매상품_섬유잡화    5982 non-null   uint8  \n",
      " 25  주구매상품_셔츠      5982 non-null   uint8  \n",
      " 26  주구매상품_소형가전    5982 non-null   uint8  \n",
      " 27  주구매상품_수산품     5982 non-null   uint8  \n",
      " 28  주구매상품_스포츠     5982 non-null   uint8  \n",
      " 29  주구매상품_시티웨어    5982 non-null   uint8  \n",
      " 30  주구매상품_식기      5982 non-null   uint8  \n",
      " 31  주구매상품_아동      5982 non-null   uint8  \n",
      " 32  주구매상품_악기      5982 non-null   uint8  \n",
      " 33  주구매상품_액세서리    5982 non-null   uint8  \n",
      " 34  주구매상품_육류      5982 non-null   uint8  \n",
      " 35  주구매상품_일용잡화    5982 non-null   uint8  \n",
      " 36  주구매상품_젓갈/반찬   5982 non-null   uint8  \n",
      " 37  주구매상품_주류      5982 non-null   uint8  \n",
      " 38  주구매상품_주방가전    5982 non-null   uint8  \n",
      " 39  주구매상품_주방용품    5982 non-null   uint8  \n",
      " 40  주구매상품_차/커피    5982 non-null   uint8  \n",
      " 41  주구매상품_축산가공    5982 non-null   uint8  \n",
      " 42  주구매상품_침구/수예   5982 non-null   uint8  \n",
      " 43  주구매상품_캐주얼     5982 non-null   uint8  \n",
      " 44  주구매상품_커리어     5982 non-null   uint8  \n",
      " 45  주구매상품_통신/컴퓨터  5982 non-null   uint8  \n",
      " 46  주구매상품_트래디셔널   5982 non-null   uint8  \n",
      " 47  주구매상품_피혁잡화    5982 non-null   uint8  \n",
      " 48  주구매상품_화장품     5982 non-null   uint8  \n",
      " 49  주구매지점_강남점     5982 non-null   uint8  \n",
      " 50  주구매지점_관악점     5982 non-null   uint8  \n",
      " 51  주구매지점_광주점     5982 non-null   uint8  \n",
      " 52  주구매지점_노원점     5982 non-null   uint8  \n",
      " 53  주구매지점_대구점     5982 non-null   uint8  \n",
      " 54  주구매지점_대전점     5982 non-null   uint8  \n",
      " 55  주구매지점_동래점     5982 non-null   uint8  \n",
      " 56  주구매지점_미아점     5982 non-null   uint8  \n",
      " 57  주구매지점_본  점    5982 non-null   uint8  \n",
      " 58  주구매지점_부산본점    5982 non-null   uint8  \n",
      " 59  주구매지점_부평점     5982 non-null   uint8  \n",
      " 60  주구매지점_분당점     5982 non-null   uint8  \n",
      " 61  주구매지점_상인점     5982 non-null   uint8  \n",
      " 62  주구매지점_센텀시티점   5982 non-null   uint8  \n",
      " 63  주구매지점_안양점     5982 non-null   uint8  \n",
      " 64  주구매지점_영등포점    5982 non-null   uint8  \n",
      " 65  주구매지점_울산점     5982 non-null   uint8  \n",
      " 66  주구매지점_인천점     5982 non-null   uint8  \n",
      " 67  주구매지점_일산점     5982 non-null   uint8  \n",
      " 68  주구매지점_잠실점     5982 non-null   uint8  \n",
      " 69  주구매지점_전주점     5982 non-null   uint8  \n",
      " 70  주구매지점_창원점     5982 non-null   uint8  \n",
      " 71  주구매지점_청량리점    5982 non-null   uint8  \n",
      " 72  주구매지점_포항점     5982 non-null   uint8  \n",
      "dtypes: float64(7), uint8(66)\n",
      "memory usage: 759.4 KB\n",
      "None\n"
     ]
    }
   ],
   "source": [
    "print(df.info())"
   ]
  },
  {
   "cell_type": "markdown",
   "metadata": {},
   "source": [
    "### Table split"
   ]
  },
  {
   "cell_type": "code",
   "execution_count": 19,
   "metadata": {},
   "outputs": [],
   "source": [
    "exog = df.iloc[:3500, :]\n",
    "test = df.iloc[3500:, :]"
   ]
  },
  {
   "cell_type": "code",
   "execution_count": 20,
   "metadata": {},
   "outputs": [
    {
     "name": "stdout",
     "output_type": "stream",
     "text": [
      "<class 'pandas.core.frame.DataFrame'>\n",
      "Int64Index: 3500 entries, 0 to 3499\n",
      "Data columns (total 73 columns):\n",
      " #   Column        Non-Null Count  Dtype  \n",
      "---  ------        --------------  -----  \n",
      " 0   총구매액          3500 non-null   float64\n",
      " 1   최대구매액         3500 non-null   float64\n",
      " 2   환불금액          3500 non-null   float64\n",
      " 3   내점일수          3500 non-null   float64\n",
      " 4   내점당구매건수       3500 non-null   float64\n",
      " 5   주말방문비율        3500 non-null   float64\n",
      " 6   구매주기          3500 non-null   float64\n",
      " 7   주구매상품_가공식품    3500 non-null   uint8  \n",
      " 8   주구매상품_가구      3500 non-null   uint8  \n",
      " 9   주구매상품_건강식품    3500 non-null   uint8  \n",
      " 10  주구매상품_골프      3500 non-null   uint8  \n",
      " 11  주구매상품_구두      3500 non-null   uint8  \n",
      " 12  주구매상품_기타      3500 non-null   uint8  \n",
      " 13  주구매상품_남성 캐주얼  3500 non-null   uint8  \n",
      " 14  주구매상품_남성 트랜디  3500 non-null   uint8  \n",
      " 15  주구매상품_남성정장    3500 non-null   uint8  \n",
      " 16  주구매상품_농산물     3500 non-null   uint8  \n",
      " 17  주구매상품_대형가전    3500 non-null   uint8  \n",
      " 18  주구매상품_디자이너    3500 non-null   uint8  \n",
      " 19  주구매상품_란제리/내의  3500 non-null   uint8  \n",
      " 20  주구매상품_명품      3500 non-null   uint8  \n",
      " 21  주구매상품_모피/피혁   3500 non-null   uint8  \n",
      " 22  주구매상품_보석      3500 non-null   uint8  \n",
      " 23  주구매상품_생활잡화    3500 non-null   uint8  \n",
      " 24  주구매상품_섬유잡화    3500 non-null   uint8  \n",
      " 25  주구매상품_셔츠      3500 non-null   uint8  \n",
      " 26  주구매상품_소형가전    3500 non-null   uint8  \n",
      " 27  주구매상품_수산품     3500 non-null   uint8  \n",
      " 28  주구매상품_스포츠     3500 non-null   uint8  \n",
      " 29  주구매상품_시티웨어    3500 non-null   uint8  \n",
      " 30  주구매상품_식기      3500 non-null   uint8  \n",
      " 31  주구매상품_아동      3500 non-null   uint8  \n",
      " 32  주구매상품_악기      3500 non-null   uint8  \n",
      " 33  주구매상품_액세서리    3500 non-null   uint8  \n",
      " 34  주구매상품_육류      3500 non-null   uint8  \n",
      " 35  주구매상품_일용잡화    3500 non-null   uint8  \n",
      " 36  주구매상품_젓갈/반찬   3500 non-null   uint8  \n",
      " 37  주구매상품_주류      3500 non-null   uint8  \n",
      " 38  주구매상품_주방가전    3500 non-null   uint8  \n",
      " 39  주구매상품_주방용품    3500 non-null   uint8  \n",
      " 40  주구매상품_차/커피    3500 non-null   uint8  \n",
      " 41  주구매상품_축산가공    3500 non-null   uint8  \n",
      " 42  주구매상품_침구/수예   3500 non-null   uint8  \n",
      " 43  주구매상품_캐주얼     3500 non-null   uint8  \n",
      " 44  주구매상품_커리어     3500 non-null   uint8  \n",
      " 45  주구매상품_통신/컴퓨터  3500 non-null   uint8  \n",
      " 46  주구매상품_트래디셔널   3500 non-null   uint8  \n",
      " 47  주구매상품_피혁잡화    3500 non-null   uint8  \n",
      " 48  주구매상품_화장품     3500 non-null   uint8  \n",
      " 49  주구매지점_강남점     3500 non-null   uint8  \n",
      " 50  주구매지점_관악점     3500 non-null   uint8  \n",
      " 51  주구매지점_광주점     3500 non-null   uint8  \n",
      " 52  주구매지점_노원점     3500 non-null   uint8  \n",
      " 53  주구매지점_대구점     3500 non-null   uint8  \n",
      " 54  주구매지점_대전점     3500 non-null   uint8  \n",
      " 55  주구매지점_동래점     3500 non-null   uint8  \n",
      " 56  주구매지점_미아점     3500 non-null   uint8  \n",
      " 57  주구매지점_본  점    3500 non-null   uint8  \n",
      " 58  주구매지점_부산본점    3500 non-null   uint8  \n",
      " 59  주구매지점_부평점     3500 non-null   uint8  \n",
      " 60  주구매지점_분당점     3500 non-null   uint8  \n",
      " 61  주구매지점_상인점     3500 non-null   uint8  \n",
      " 62  주구매지점_센텀시티점   3500 non-null   uint8  \n",
      " 63  주구매지점_안양점     3500 non-null   uint8  \n",
      " 64  주구매지점_영등포점    3500 non-null   uint8  \n",
      " 65  주구매지점_울산점     3500 non-null   uint8  \n",
      " 66  주구매지점_인천점     3500 non-null   uint8  \n",
      " 67  주구매지점_일산점     3500 non-null   uint8  \n",
      " 68  주구매지점_잠실점     3500 non-null   uint8  \n",
      " 69  주구매지점_전주점     3500 non-null   uint8  \n",
      " 70  주구매지점_창원점     3500 non-null   uint8  \n",
      " 71  주구매지점_청량리점    3500 non-null   uint8  \n",
      " 72  주구매지점_포항점     3500 non-null   uint8  \n",
      "dtypes: float64(7), uint8(66)\n",
      "memory usage: 444.3 KB\n",
      "None\n"
     ]
    }
   ],
   "source": [
    "print(exog.info())"
   ]
  },
  {
   "cell_type": "code",
   "execution_count": 21,
   "metadata": {},
   "outputs": [
    {
     "name": "stdout",
     "output_type": "stream",
     "text": [
      "<class 'pandas.core.frame.DataFrame'>\n",
      "Int64Index: 2482 entries, 0 to 2481\n",
      "Data columns (total 73 columns):\n",
      " #   Column        Non-Null Count  Dtype  \n",
      "---  ------        --------------  -----  \n",
      " 0   총구매액          2482 non-null   float64\n",
      " 1   최대구매액         2482 non-null   float64\n",
      " 2   환불금액          2482 non-null   float64\n",
      " 3   내점일수          2482 non-null   float64\n",
      " 4   내점당구매건수       2482 non-null   float64\n",
      " 5   주말방문비율        2482 non-null   float64\n",
      " 6   구매주기          2482 non-null   float64\n",
      " 7   주구매상품_가공식품    2482 non-null   uint8  \n",
      " 8   주구매상품_가구      2482 non-null   uint8  \n",
      " 9   주구매상품_건강식품    2482 non-null   uint8  \n",
      " 10  주구매상품_골프      2482 non-null   uint8  \n",
      " 11  주구매상품_구두      2482 non-null   uint8  \n",
      " 12  주구매상품_기타      2482 non-null   uint8  \n",
      " 13  주구매상품_남성 캐주얼  2482 non-null   uint8  \n",
      " 14  주구매상품_남성 트랜디  2482 non-null   uint8  \n",
      " 15  주구매상품_남성정장    2482 non-null   uint8  \n",
      " 16  주구매상품_농산물     2482 non-null   uint8  \n",
      " 17  주구매상품_대형가전    2482 non-null   uint8  \n",
      " 18  주구매상품_디자이너    2482 non-null   uint8  \n",
      " 19  주구매상품_란제리/내의  2482 non-null   uint8  \n",
      " 20  주구매상품_명품      2482 non-null   uint8  \n",
      " 21  주구매상품_모피/피혁   2482 non-null   uint8  \n",
      " 22  주구매상품_보석      2482 non-null   uint8  \n",
      " 23  주구매상품_생활잡화    2482 non-null   uint8  \n",
      " 24  주구매상품_섬유잡화    2482 non-null   uint8  \n",
      " 25  주구매상품_셔츠      2482 non-null   uint8  \n",
      " 26  주구매상품_소형가전    2482 non-null   uint8  \n",
      " 27  주구매상품_수산품     2482 non-null   uint8  \n",
      " 28  주구매상품_스포츠     2482 non-null   uint8  \n",
      " 29  주구매상품_시티웨어    2482 non-null   uint8  \n",
      " 30  주구매상품_식기      2482 non-null   uint8  \n",
      " 31  주구매상품_아동      2482 non-null   uint8  \n",
      " 32  주구매상품_악기      2482 non-null   uint8  \n",
      " 33  주구매상품_액세서리    2482 non-null   uint8  \n",
      " 34  주구매상품_육류      2482 non-null   uint8  \n",
      " 35  주구매상품_일용잡화    2482 non-null   uint8  \n",
      " 36  주구매상품_젓갈/반찬   2482 non-null   uint8  \n",
      " 37  주구매상품_주류      2482 non-null   uint8  \n",
      " 38  주구매상품_주방가전    2482 non-null   uint8  \n",
      " 39  주구매상품_주방용품    2482 non-null   uint8  \n",
      " 40  주구매상품_차/커피    2482 non-null   uint8  \n",
      " 41  주구매상품_축산가공    2482 non-null   uint8  \n",
      " 42  주구매상품_침구/수예   2482 non-null   uint8  \n",
      " 43  주구매상품_캐주얼     2482 non-null   uint8  \n",
      " 44  주구매상품_커리어     2482 non-null   uint8  \n",
      " 45  주구매상품_통신/컴퓨터  2482 non-null   uint8  \n",
      " 46  주구매상품_트래디셔널   2482 non-null   uint8  \n",
      " 47  주구매상품_피혁잡화    2482 non-null   uint8  \n",
      " 48  주구매상품_화장품     2482 non-null   uint8  \n",
      " 49  주구매지점_강남점     2482 non-null   uint8  \n",
      " 50  주구매지점_관악점     2482 non-null   uint8  \n",
      " 51  주구매지점_광주점     2482 non-null   uint8  \n",
      " 52  주구매지점_노원점     2482 non-null   uint8  \n",
      " 53  주구매지점_대구점     2482 non-null   uint8  \n",
      " 54  주구매지점_대전점     2482 non-null   uint8  \n",
      " 55  주구매지점_동래점     2482 non-null   uint8  \n",
      " 56  주구매지점_미아점     2482 non-null   uint8  \n",
      " 57  주구매지점_본  점    2482 non-null   uint8  \n",
      " 58  주구매지점_부산본점    2482 non-null   uint8  \n",
      " 59  주구매지점_부평점     2482 non-null   uint8  \n",
      " 60  주구매지점_분당점     2482 non-null   uint8  \n",
      " 61  주구매지점_상인점     2482 non-null   uint8  \n",
      " 62  주구매지점_센텀시티점   2482 non-null   uint8  \n",
      " 63  주구매지점_안양점     2482 non-null   uint8  \n",
      " 64  주구매지점_영등포점    2482 non-null   uint8  \n",
      " 65  주구매지점_울산점     2482 non-null   uint8  \n",
      " 66  주구매지점_인천점     2482 non-null   uint8  \n",
      " 67  주구매지점_일산점     2482 non-null   uint8  \n",
      " 68  주구매지점_잠실점     2482 non-null   uint8  \n",
      " 69  주구매지점_전주점     2482 non-null   uint8  \n",
      " 70  주구매지점_창원점     2482 non-null   uint8  \n",
      " 71  주구매지점_청량리점    2482 non-null   uint8  \n",
      " 72  주구매지점_포항점     2482 non-null   uint8  \n",
      "dtypes: float64(7), uint8(66)\n",
      "memory usage: 315.1 KB\n",
      "None\n"
     ]
    }
   ],
   "source": [
    "print(test.info())"
   ]
  },
  {
   "cell_type": "code",
   "execution_count": 23,
   "metadata": {},
   "outputs": [
    {
     "name": "stdout",
     "output_type": "stream",
     "text": [
      "<class 'pandas.core.series.Series'>\n",
      "RangeIndex: 3500 entries, 0 to 3499\n",
      "Series name: gender\n",
      "Non-Null Count  Dtype\n",
      "--------------  -----\n",
      "3500 non-null   int64\n",
      "dtypes: int64(1)\n",
      "memory usage: 27.5 KB\n",
      "None\n"
     ]
    }
   ],
   "source": [
    "print(endog.info())"
   ]
  },
  {
   "cell_type": "code",
   "execution_count": 22,
   "metadata": {},
   "outputs": [],
   "source": [
    "endog = endog['gender']"
   ]
  },
  {
   "cell_type": "markdown",
   "metadata": {},
   "source": [
    "### Model 생성 및 학습"
   ]
  },
  {
   "cell_type": "code",
   "execution_count": 24,
   "metadata": {},
   "outputs": [
    {
     "name": "stderr",
     "output_type": "stream",
     "text": [
      "c:\\projects\\certi\\lib\\site-packages\\sklearn\\linear_model\\_logistic.py:444: ConvergenceWarning: lbfgs failed to converge (status=1):\n",
      "STOP: TOTAL NO. of ITERATIONS REACHED LIMIT.\n",
      "\n",
      "Increase the number of iterations (max_iter) or scale the data as shown in:\n",
      "    https://scikit-learn.org/stable/modules/preprocessing.html\n",
      "Please also refer to the documentation for alternative solver options:\n",
      "    https://scikit-learn.org/stable/modules/linear_model.html#logistic-regression\n",
      "  n_iter_i = _check_optimize_result(\n"
     ]
    },
    {
     "data": {
      "text/html": [
       "<style>#sk-container-id-1 {color: black;background-color: white;}#sk-container-id-1 pre{padding: 0;}#sk-container-id-1 div.sk-toggleable {background-color: white;}#sk-container-id-1 label.sk-toggleable__label {cursor: pointer;display: block;width: 100%;margin-bottom: 0;padding: 0.3em;box-sizing: border-box;text-align: center;}#sk-container-id-1 label.sk-toggleable__label-arrow:before {content: \"▸\";float: left;margin-right: 0.25em;color: #696969;}#sk-container-id-1 label.sk-toggleable__label-arrow:hover:before {color: black;}#sk-container-id-1 div.sk-estimator:hover label.sk-toggleable__label-arrow:before {color: black;}#sk-container-id-1 div.sk-toggleable__content {max-height: 0;max-width: 0;overflow: hidden;text-align: left;background-color: #f0f8ff;}#sk-container-id-1 div.sk-toggleable__content pre {margin: 0.2em;color: black;border-radius: 0.25em;background-color: #f0f8ff;}#sk-container-id-1 input.sk-toggleable__control:checked~div.sk-toggleable__content {max-height: 200px;max-width: 100%;overflow: auto;}#sk-container-id-1 input.sk-toggleable__control:checked~label.sk-toggleable__label-arrow:before {content: \"▾\";}#sk-container-id-1 div.sk-estimator input.sk-toggleable__control:checked~label.sk-toggleable__label {background-color: #d4ebff;}#sk-container-id-1 div.sk-label input.sk-toggleable__control:checked~label.sk-toggleable__label {background-color: #d4ebff;}#sk-container-id-1 input.sk-hidden--visually {border: 0;clip: rect(1px 1px 1px 1px);clip: rect(1px, 1px, 1px, 1px);height: 1px;margin: -1px;overflow: hidden;padding: 0;position: absolute;width: 1px;}#sk-container-id-1 div.sk-estimator {font-family: monospace;background-color: #f0f8ff;border: 1px dotted black;border-radius: 0.25em;box-sizing: border-box;margin-bottom: 0.5em;}#sk-container-id-1 div.sk-estimator:hover {background-color: #d4ebff;}#sk-container-id-1 div.sk-parallel-item::after {content: \"\";width: 100%;border-bottom: 1px solid gray;flex-grow: 1;}#sk-container-id-1 div.sk-label:hover label.sk-toggleable__label {background-color: #d4ebff;}#sk-container-id-1 div.sk-serial::before {content: \"\";position: absolute;border-left: 1px solid gray;box-sizing: border-box;top: 0;bottom: 0;left: 50%;z-index: 0;}#sk-container-id-1 div.sk-serial {display: flex;flex-direction: column;align-items: center;background-color: white;padding-right: 0.2em;padding-left: 0.2em;position: relative;}#sk-container-id-1 div.sk-item {position: relative;z-index: 1;}#sk-container-id-1 div.sk-parallel {display: flex;align-items: stretch;justify-content: center;background-color: white;position: relative;}#sk-container-id-1 div.sk-item::before, #sk-container-id-1 div.sk-parallel-item::before {content: \"\";position: absolute;border-left: 1px solid gray;box-sizing: border-box;top: 0;bottom: 0;left: 50%;z-index: -1;}#sk-container-id-1 div.sk-parallel-item {display: flex;flex-direction: column;z-index: 1;position: relative;background-color: white;}#sk-container-id-1 div.sk-parallel-item:first-child::after {align-self: flex-end;width: 50%;}#sk-container-id-1 div.sk-parallel-item:last-child::after {align-self: flex-start;width: 50%;}#sk-container-id-1 div.sk-parallel-item:only-child::after {width: 0;}#sk-container-id-1 div.sk-dashed-wrapped {border: 1px dashed gray;margin: 0 0.4em 0.5em 0.4em;box-sizing: border-box;padding-bottom: 0.4em;background-color: white;}#sk-container-id-1 div.sk-label label {font-family: monospace;font-weight: bold;display: inline-block;line-height: 1.2em;}#sk-container-id-1 div.sk-label-container {text-align: center;}#sk-container-id-1 div.sk-container {/* jupyter's `normalize.less` sets `[hidden] { display: none; }` but bootstrap.min.css set `[hidden] { display: none !important; }` so we also need the `!important` here to be able to override the default hidden behavior on the sphinx rendered scikit-learn.org. See: https://github.com/scikit-learn/scikit-learn/issues/21755 */display: inline-block !important;position: relative;}#sk-container-id-1 div.sk-text-repr-fallback {display: none;}</style><div id=\"sk-container-id-1\" class=\"sk-top-container\"><div class=\"sk-text-repr-fallback\"><pre>LogisticRegression()</pre><b>In a Jupyter environment, please rerun this cell to show the HTML representation or trust the notebook. <br />On GitHub, the HTML representation is unable to render, please try loading this page with nbviewer.org.</b></div><div class=\"sk-container\" hidden><div class=\"sk-item\"><div class=\"sk-estimator sk-toggleable\"><input class=\"sk-toggleable__control sk-hidden--visually\" id=\"sk-estimator-id-1\" type=\"checkbox\" checked><label for=\"sk-estimator-id-1\" class=\"sk-toggleable__label sk-toggleable__label-arrow\">LogisticRegression</label><div class=\"sk-toggleable__content\"><pre>LogisticRegression()</pre></div></div></div></div></div>"
      ],
      "text/plain": [
       "LogisticRegression()"
      ]
     },
     "execution_count": 24,
     "metadata": {},
     "output_type": "execute_result"
    }
   ],
   "source": [
    "from sklearn.linear_model import LogisticRegression\n",
    "\n",
    "model = LogisticRegression()\n",
    "model.fit(exog, endog)"
   ]
  },
  {
   "cell_type": "code",
   "execution_count": 25,
   "metadata": {},
   "outputs": [],
   "source": [
    "predict = model.predict_proba(test)"
   ]
  },
  {
   "cell_type": "code",
   "execution_count": 26,
   "metadata": {},
   "outputs": [
    {
     "name": "stdout",
     "output_type": "stream",
     "text": [
      "[[0.44712369 0.55287631]\n",
      " [0.86261603 0.13738397]\n",
      " [0.81802694 0.18197306]\n",
      " ...\n",
      " [0.25974833 0.74025167]\n",
      " [0.53228477 0.46771523]\n",
      " [0.52846109 0.47153891]]\n"
     ]
    }
   ],
   "source": [
    "print(predict)"
   ]
  },
  {
   "cell_type": "code",
   "execution_count": 27,
   "metadata": {},
   "outputs": [],
   "source": [
    "predict_man = predict[:, 1]"
   ]
  },
  {
   "cell_type": "markdown",
   "metadata": {},
   "source": [
    "### 제출용 파일 저장"
   ]
  },
  {
   "cell_type": "code",
   "execution_count": 28,
   "metadata": {},
   "outputs": [],
   "source": [
    "result = pd.DataFrame({'custid':cust_id, 'gender':predict_man})"
   ]
  },
  {
   "cell_type": "code",
   "execution_count": 29,
   "metadata": {},
   "outputs": [
    {
     "name": "stdout",
     "output_type": "stream",
     "text": [
      "   custid    gender\n",
      "0    3500  0.552876\n",
      "1    3501  0.137384\n",
      "2    3502  0.181973\n",
      "3    3503  0.353272\n",
      "4    3504  0.436386\n"
     ]
    }
   ],
   "source": [
    "print(result.head())"
   ]
  },
  {
   "cell_type": "code",
   "execution_count": 30,
   "metadata": {},
   "outputs": [],
   "source": [
    "result.to_csv('result.csv', index=False)"
   ]
  }
 ],
 "metadata": {
  "kernelspec": {
   "display_name": "Python 3.9.9 ('certi': venv)",
   "language": "python",
   "name": "python3"
  },
  "language_info": {
   "codemirror_mode": {
    "name": "ipython",
    "version": 3
   },
   "file_extension": ".py",
   "mimetype": "text/x-python",
   "name": "python",
   "nbconvert_exporter": "python",
   "pygments_lexer": "ipython3",
   "version": "3.9.9"
  },
  "orig_nbformat": 4,
  "vscode": {
   "interpreter": {
    "hash": "f24cb6eee21f5a21c8a785a50a93a2767ca0bfcb54639811d53c79cfc0c2a62e"
   }
  }
 },
 "nbformat": 4,
 "nbformat_minor": 2
}
